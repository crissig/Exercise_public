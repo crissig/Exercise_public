{
  "metadata": {
    "kernelspec": {
      "name": "python",
      "display_name": "Python (Pyodide)",
      "language": "python"
    },
    "language_info": {
      "codemirror_mode": {
        "name": "python",
        "version": 3
      },
      "file_extension": ".py",
      "mimetype": "text/x-python",
      "name": "python",
      "nbconvert_exporter": "python",
      "pygments_lexer": "ipython3",
      "version": "3.8"
    }
  },
  "nbformat_minor": 5,
  "nbformat": 4,
  "cells": [
    {
      "id": "c0b7dd50-bacf-4dc0-98a1-6785b57fb181",
      "cell_type": "markdown",
      "source": "<h1>Data Science Tools and Ecosystem</h1>",
      "metadata": {}
    },
    {
      "id": "728d9b1f-1d0b-4eb3-996a-4453c25444b4",
      "cell_type": "markdown",
      "source": "<p>In this notebook, Data Science Tools and Ecosystem are summarized.<p>",
      "metadata": {}
    },
    {
      "id": "b2b9bcf3-2c0b-48a1-bade-d6c3b8dc774e",
      "cell_type": "markdown",
      "source": "<strong>Objectives:</strong>\n<ul>\n    <li>List popular languages that Data Scientists use.</li>\n    <li>List commonly used libraries used by Data Scientists.</li>\n    <li>Comment on Data Science tools.</li>\n</ul>\n    ",
      "metadata": {}
    },
    {
      "id": "3c957deb-56d8-43b4-9ab9-7f5efea83c17",
      "cell_type": "markdown",
      "source": "Some of the popular languages that Data Scientists use are:\n<ol>\n    <li>Python.</li>\n    <li>R.</li>\n    <li>SQL.</li>\n</ol>\n",
      "metadata": {}
    },
    {
      "id": "5c211684-5f77-4c28-bd23-590a3ab0b368",
      "cell_type": "markdown",
      "source": "Some of the commonly used libraries used by Data Scientists include:\n<ol>\n    <li>TensorFlow.</li>\n    <li>NumPy.</li>\n    <li>SciPy.</li>\n</ol>",
      "metadata": {}
    },
    {
      "id": "34f750eb-46e1-46e8-b8a1-45bf703d5cdb",
      "cell_type": "markdown",
      "source": "Data Science Tools:\n\n<table style=\"width:100%\">\n  <tr>\n    <th>Data Science Tools</th>\n    <th></th>\n    <th></th>\n  </tr>\n  <tr>\n    <td>SAS</td>\n    <td></td>\n    <td></td>\n  </tr>\n  <tr>\n    <td>Apache Spark</td>\n    <td></td>\n    <td></td>\n  </tr>\n  <tr>\n    <td>BigML</td>\n    <td></td>\n    <td></td>\n  </tr>\n</table>",
      "metadata": {}
    },
    {
      "id": "05ff289f-d200-40f5-817a-f2d1d65e3474",
      "cell_type": "markdown",
      "source": "### Below are a few examples of evaluating arithmetic expressions in Python",
      "metadata": {}
    },
    {
      "id": "1b0019a7-0338-4d65-863d-3a35f0ca72ff",
      "cell_type": "code",
      "source": "# This is an arithmetic operations\ncode = compile(\"5 + 4\", \"<string>\", \"eval\")\neval(code)\n# Result: 9\n",
      "metadata": {
        "trusted": true
      },
      "outputs": [
        {
          "execution_count": 7,
          "output_type": "execute_result",
          "data": {
            "text/plain": "9"
          },
          "metadata": {}
        }
      ],
      "execution_count": 7
    },
    {
      "id": "6a52fcb4-00de-4a39-b368-db083fbc4d61",
      "cell_type": "markdown",
      "source": "This will convert 200 minutes to hours by diving by 60",
      "metadata": {}
    },
    {
      "id": "383731de-c25b-4b4f-a1ce-44f26b6ae2ab",
      "cell_type": "code",
      "source": "minutes = 200\nhours = minutes / 60\nprint(str(hours) , \"hours\")\n\n# Result: 3.3333333333333335 hours",
      "metadata": {
        "trusted": true
      },
      "outputs": [
        {
          "name": "stdout",
          "text": "3.3333333333333335 hours\n",
          "output_type": "stream"
        }
      ],
      "execution_count": 8
    },
    {
      "id": "ee566760-e4a1-4439-baf6-5e54e551929f",
      "cell_type": "markdown",
      "source": "## Author:\nC. G.",
      "metadata": {}
    }
  ]
}